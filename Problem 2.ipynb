{
 "cells": [
  {
   "cell_type": "markdown",
   "metadata": {},
   "source": [
    "## Problem 2\n",
    "\n",
    "2.Build a LSTM to predict the stock price for multivariate data(use multiple features).Use any online website or tiingo to get the dataset."
   ]
  },
  {
   "cell_type": "markdown",
   "metadata": {
    "id": "SfBJOcBd-2zu"
   },
   "source": [
    "Importing the Libraries required"
   ]
  },
  {
   "cell_type": "code",
   "execution_count": 1,
   "metadata": {
    "id": "c4n2X6sS_BRd"
   },
   "outputs": [],
   "source": [
    "import pandas as pd\n",
    "import matplotlib.pyplot as plt\n",
    "import numpy as np \n",
    "import math\n",
    "from sklearn.preprocessing import MinMaxScaler\n",
    "from sklearn.metrics import mean_squared_error\n",
    "from keras.models import Sequential\n",
    "from keras.layers import Dense, Activation\n",
    "from keras.layers import LSTM\n"
   ]
  },
  {
   "cell_type": "markdown",
   "metadata": {
    "id": "2j9cucpd_rDl"
   },
   "source": [
    "Defining the function for pre processing the data"
   ]
  },
  {
   "cell_type": "code",
   "execution_count": 2,
   "metadata": {
    "id": "eDB_gLe2_xPm"
   },
   "outputs": [],
   "source": [
    "import numpy as np \n",
    "\n",
    "\n",
    "def new_dataset(dataset, step_size):\n",
    "\tdata_X, data_Y = [], []\n",
    "\tfor i in range(len(dataset)-step_size-1):\n",
    "\t\ta = dataset[i:(i+step_size), 0]\n",
    "\t\tdata_X.append(a)\n",
    "\t\tdata_Y.append(dataset[i + step_size, 0])\n",
    "\treturn np.array(data_X), np.array(data_Y)"
   ]
  },
  {
   "cell_type": "code",
   "execution_count": 3,
   "metadata": {
    "id": "jYSc6U4d_8fl"
   },
   "outputs": [],
   "source": [
    "np.random.seed(7)"
   ]
  },
  {
   "cell_type": "markdown",
   "metadata": {
    "id": "9oRNHY_CABV2"
   },
   "source": [
    "Loading the data set"
   ]
  },
  {
   "cell_type": "code",
   "execution_count": 6,
   "metadata": {
    "id": "q648Uhv8ADhF"
   },
   "outputs": [],
   "source": [
    "dataset = pd.read_csv('C:/Users/usach/Desktop/AI assignments/Module 11/Apple_Share_Price.csv', usecols=[1,2,3,4])\n",
    "dataset = dataset.reindex(index = dataset.index[::-1])"
   ]
  },
  {
   "cell_type": "markdown",
   "metadata": {
    "id": "YGqdaG23AP8N"
   },
   "source": [
    "Creating the index for flexibility"
   ]
  },
  {
   "cell_type": "code",
   "execution_count": 7,
   "metadata": {
    "id": "bJkbe1x7AWe2"
   },
   "outputs": [],
   "source": [
    "obs = np.arange(1, len(dataset) + 1, 1)"
   ]
  },
  {
   "cell_type": "markdown",
   "metadata": {
    "id": "lsuMM8W_AeWl"
   },
   "source": [
    "Taking Different Indicators for Prediction"
   ]
  },
  {
   "cell_type": "code",
   "execution_count": 8,
   "metadata": {
    "id": "QDbhR_ZDAi5H"
   },
   "outputs": [],
   "source": [
    "OHLC_avg = dataset.mean(axis = 1)\n",
    "HLC_avg = dataset[['High', 'Low', 'Close']].mean(axis = 1)\n",
    "close_val = dataset[['Close']]"
   ]
  },
  {
   "cell_type": "markdown",
   "metadata": {
    "id": "RCei5HUnAqFm"
   },
   "source": [
    "Plotting all the Indicators in One Plot"
   ]
  },
  {
   "cell_type": "code",
   "execution_count": 9,
   "metadata": {
    "colab": {
     "base_uri": "https://localhost:8080/",
     "height": 265
    },
    "id": "tT59tnijAt0e",
    "outputId": "8d3935a6-7b36-4f7c-d5d4-0b4de02fd1aa"
   },
   "outputs": [
    {
     "data": {
      "image/png": "[encoded data removed]",
      "text/plain": [
       "<Figure size 432x288 with 1 Axes>"
      ]
     },
     "metadata": {
      "needs_background": "light"
     },
     "output_type": "display_data"
    }
   ],
   "source": [
    "plt.plot(obs, OHLC_avg, 'r', label = 'OHLC avg')\n",
    "plt.plot(obs, HLC_avg, 'b', label = 'HLC avg')\n",
    "plt.plot(obs, close_val, 'g', label = 'Closing price')\n",
    "plt.legend(loc = 'upper right')\n",
    "plt.show()"
   ]
  },
  {
   "cell_type": "markdown",
   "metadata": {
    "id": "ycsKz0IwAx4O"
   },
   "source": [
    "Preparing the time series data"
   ]
  },
  {
   "cell_type": "code",
   "execution_count": 10,
   "metadata": {
    "id": "xl-uyqaBA3Ld"
   },
   "outputs": [],
   "source": [
    "OHLC_avg = np.reshape(OHLC_avg.values, (len(OHLC_avg),1)) # 1664\n",
    "scaler = MinMaxScaler(feature_range=(0, 1))\n",
    "OHLC_avg = scaler.fit_transform(OHLC_avg)"
   ]
  },
  {
   "cell_type": "code",
   "execution_count": 11,
   "metadata": {
    "id": "kW-rqkK6BhR2"
   },
   "outputs": [],
   "source": [
    "from sklearn import preprocessing"
   ]
  },
  {
   "cell_type": "markdown",
   "metadata": {
    "id": "_Doy7-K-Bwfj"
   },
   "source": [
    "Splitting the data set into training and testing data"
   ]
  },
  {
   "cell_type": "code",
   "execution_count": 12,
   "metadata": {
    "id": "DAPZz1bjBvHG"
   },
   "outputs": [],
   "source": [
    "train_OHLC = int(len(OHLC_avg) * 0.75)\n",
    "test_OHLC = len(OHLC_avg) - train_OHLC\n",
    "train_OHLC, test_OHLC = OHLC_avg[0:train_OHLC,:], OHLC_avg[train_OHLC:len(OHLC_avg),:]"
   ]
  },
  {
   "cell_type": "code",
   "execution_count": 13,
   "metadata": {
    "id": "H5z88vDRB63i"
   },
   "outputs": [],
   "source": [
    "trainX, trainY = new_dataset(train_OHLC, 1)\n",
    "testX, testY = new_dataset(test_OHLC, 1)"
   ]
  },
  {
   "cell_type": "code",
   "execution_count": 14,
   "metadata": {
    "id": "E4ul9Q7IGY7W"
   },
   "outputs": [],
   "source": [
    "trainX = np.reshape(trainX, (trainX.shape[0], 1, trainX.shape[1]))\n",
    "testX = np.reshape(testX, (testX.shape[0], 1, testX.shape[1]))\n",
    "step_size = 1"
   ]
  },
  {
   "cell_type": "markdown",
   "metadata": {
    "id": "Ti6HEaqAfcK1"
   },
   "source": [
    "Defining the LSTM Model"
   ]
  },
  {
   "cell_type": "code",
   "execution_count": 15,
   "metadata": {
    "id": "5GkAFCStGhBu"
   },
   "outputs": [],
   "source": [
    "model = Sequential()\n",
    "model.add(LSTM(32, input_shape=(1, step_size), return_sequences = True))\n",
    "model.add(LSTM(16,activation = 'relu'))\n",
    "model.add(Dense(1))\n",
    "model.add(Activation('linear'))"
   ]
  },
  {
   "cell_type": "markdown",
   "metadata": {
    "id": "V_jeerb_fg4t"
   },
   "source": [
    "Compiling and training the model"
   ]
  },
  {
   "cell_type": "code",
   "execution_count": 16,
   "metadata": {
    "colab": {
     "base_uri": "https://localhost:8080/"
    },
    "id": "nnNPLiPGGzpN",
    "outputId": "d3924663-c327-40a6-89ce-fc4c7936eb96"
   },
   "outputs": [
    {
     "name": "stdout",
     "output_type": "stream",
     "text": [
      "Epoch 1/20\n",
      "563/563 - 6s - loss: 0.0780\n",
      "Epoch 2/20\n",
      "563/563 - 1s - loss: 0.0017\n",
      "Epoch 3/20\n",
      "563/563 - 1s - loss: 0.0013\n",
      "Epoch 4/20\n",
      "563/563 - 1s - loss: 0.0011\n",
      "Epoch 5/20\n",
      "563/563 - 1s - loss: 8.9903e-04\n",
      "Epoch 6/20\n",
      "563/563 - 1s - loss: 7.2639e-04\n",
      "Epoch 7/20\n",
      "563/563 - 1s - loss: 5.4441e-04\n",
      "Epoch 8/20\n",
      "563/563 - 1s - loss: 4.5164e-04\n",
      "Epoch 9/20\n",
      "563/563 - 1s - loss: 4.0824e-04\n",
      "Epoch 10/20\n",
      "563/563 - 1s - loss: 3.4537e-04\n",
      "Epoch 11/20\n",
      "563/563 - 1s - loss: 3.4606e-04\n",
      "Epoch 12/20\n",
      "563/563 - 1s - loss: 3.3691e-04\n",
      "Epoch 13/20\n",
      "563/563 - 1s - loss: 3.2988e-04\n",
      "Epoch 14/20\n",
      "563/563 - 1s - loss: 4.2719e-04\n",
      "Epoch 15/20\n",
      "563/563 - 1s - loss: 3.1190e-04\n",
      "Epoch 16/20\n",
      "563/563 - 1s - loss: 3.9074e-04\n",
      "Epoch 17/20\n",
      "563/563 - 1s - loss: 3.1197e-04\n",
      "Epoch 18/20\n",
      "563/563 - 1s - loss: 3.2918e-04\n",
      "Epoch 19/20\n",
      "563/563 - 1s - loss: 3.5569e-04\n",
      "Epoch 20/20\n",
      "563/563 - 1s - loss: 3.8226e-04\n"
     ]
    },
    {
     "data": {
      "text/plain": [
       "<tensorflow.python.keras.callbacks.History at 0x23e402cf670>"
      ]
     },
     "execution_count": 16,
     "metadata": {},
     "output_type": "execute_result"
    }
   ],
   "source": [
    "model.compile(loss='mean_squared_error', optimizer='adam') \n",
    "model.fit(trainX, trainY, epochs=20, batch_size=1, verbose=2)"
   ]
  },
  {
   "cell_type": "markdown",
   "metadata": {
    "id": "HOb5curbfmkO"
   },
   "source": [
    "Predicting the vules using the defined model"
   ]
  },
  {
   "cell_type": "code",
   "execution_count": 17,
   "metadata": {
    "id": "FEPL5JgtG7De"
   },
   "outputs": [],
   "source": [
    "trainPredict = model.predict(trainX)\n",
    "testPredict = model.predict(testX)"
   ]
  },
  {
   "cell_type": "markdown",
   "metadata": {
    "id": "63C3jiy-f5B2"
   },
   "source": [
    "De-Normalizing the data for plotting the values"
   ]
  },
  {
   "cell_type": "code",
   "execution_count": 18,
   "metadata": {
    "id": "QleeZbzsHAq2"
   },
   "outputs": [],
   "source": [
    "trainPredict = scaler.inverse_transform(trainPredict)\n",
    "trainY = scaler.inverse_transform([trainY])\n",
    "testPredict = scaler.inverse_transform(testPredict)\n",
    "testY = scaler.inverse_transform([testY])"
   ]
  },
  {
   "cell_type": "markdown",
   "metadata": {
    "id": "C-9NCrkdgB_F"
   },
   "source": [
    "RMSE Value for the training Data"
   ]
  },
  {
   "cell_type": "code",
   "execution_count": 19,
   "metadata": {
    "colab": {
     "base_uri": "https://localhost:8080/"
    },
    "id": "SsBCzqxnHCk9",
    "outputId": "de1321d0-436e-4e61-cac6-0f72a028dad7"
   },
   "outputs": [
    {
     "name": "stdout",
     "output_type": "stream",
     "text": [
      "Train RMSE: 1.86\n"
     ]
    }
   ],
   "source": [
    "trainScore = math.sqrt(mean_squared_error(trainY[0], trainPredict[:,0]))\n",
    "print('Train RMSE: %.2f' % (trainScore))"
   ]
  },
  {
   "cell_type": "markdown",
   "metadata": {
    "id": "yuOj1vM5gIpm"
   },
   "source": [
    "RMSE Value for the Testing Data"
   ]
  },
  {
   "cell_type": "code",
   "execution_count": 20,
   "metadata": {
    "colab": {
     "base_uri": "https://localhost:8080/"
    },
    "id": "b2hm-grVHJVG",
    "outputId": "140e7912-e7c6-41de-f7e6-ccc18be1999d"
   },
   "outputs": [
    {
     "name": "stdout",
     "output_type": "stream",
     "text": [
      "Test RMSE: 1.27\n"
     ]
    }
   ],
   "source": [
    "\n",
    "testScore = math.sqrt(mean_squared_error(testY[0], testPredict[:,0]))\n",
    "print('Test RMSE: %.2f' % (testScore))"
   ]
  },
  {
   "cell_type": "markdown",
   "metadata": {
    "id": "ag413exGgcRk"
   },
   "source": [
    "Creating the similar dataset for plotting the training predictions"
   ]
  },
  {
   "cell_type": "code",
   "execution_count": 21,
   "metadata": {
    "id": "Cp5pRJkCHQ_N"
   },
   "outputs": [],
   "source": [
    "trainPredictPlot = np.empty_like(OHLC_avg)\n",
    "trainPredictPlot[:, :] = np.nan\n",
    "trainPredictPlot[step_size:len(trainPredict)+step_size, :] = trainPredict"
   ]
  },
  {
   "cell_type": "markdown",
   "metadata": {
    "id": "9YIC5clpgq0W"
   },
   "source": [
    "Creating the similar dataset for plotting the testing predictions"
   ]
  },
  {
   "cell_type": "code",
   "execution_count": 22,
   "metadata": {
    "id": "Xml9ri6kHVOe"
   },
   "outputs": [],
   "source": [
    "testPredictPlot = np.empty_like(OHLC_avg)\n",
    "testPredictPlot[:, :] = np.nan\n",
    "testPredictPlot[len(trainPredict)+(step_size*2)+1:len(OHLC_avg)-1, :] = testPredict"
   ]
  },
  {
   "cell_type": "markdown",
   "metadata": {
    "id": "kkDt5N6-gx0-"
   },
   "source": [
    "De-Normalizing the main data set"
   ]
  },
  {
   "cell_type": "code",
   "execution_count": 23,
   "metadata": {
    "id": "-1LHsY81HjVm"
   },
   "outputs": [],
   "source": [
    "OHLC_avg = scaler.inverse_transform(OHLC_avg)"
   ]
  },
  {
   "cell_type": "code",
   "execution_count": 24,
   "metadata": {
    "colab": {
     "base_uri": "https://localhost:8080/",
     "height": 279
    },
    "id": "jrticx3WHoX-",
    "outputId": "efc5c43b-1015-4660-e2af-aebaffd8d90f"
   },
   "outputs": [
    {
     "data": {
      "image/png": "[encoded data removed]",
      "text/plain": [
       "<Figure size 432x288 with 1 Axes>"
      ]
     },
     "metadata": {
      "needs_background": "light"
     },
     "output_type": "display_data"
    }
   ],
   "source": [
    "plt.plot(OHLC_avg, 'g', label = 'original dataset')\n",
    "plt.plot(trainPredictPlot, 'r', label = 'training set')\n",
    "plt.plot(testPredictPlot, 'b', label = 'predicted stock price/test set')\n",
    "plt.legend(loc = 'upper right')\n",
    "plt.xlabel('Time in Days')\n",
    "plt.ylabel('OHLC Value of Apple Stocks')\n",
    "plt.show()"
   ]
  },
  {
   "cell_type": "markdown",
   "metadata": {
    "id": "A5ND4YP4hAlR"
   },
   "source": [
    "Prediction of Future Values"
   ]
  },
  {
   "cell_type": "code",
   "execution_count": 25,
   "metadata": {
    "colab": {
     "base_uri": "https://localhost:8080/"
    },
    "id": "LgHt9pVGH1dm",
    "outputId": "a6a5e39c-f6b6-4db7-c9e5-e80d08c8db82"
   },
   "outputs": [
    {
     "name": "stdout",
     "output_type": "stream",
     "text": [
      "Last Day Value: 54.058773040771484\n",
      "Next Day Value: 53.803123474121094\n"
     ]
    },
    {
     "name": "stderr",
     "output_type": "stream",
     "text": [
      "<ipython-input-25-a3575500764a>:4: DeprecationWarning: np.asscalar(a) is deprecated since NumPy v1.16, use a.item() instead\n",
      "  print (\"Last Day Value:\", np.asscalar(last_val))\n",
      "<ipython-input-25-a3575500764a>:5: DeprecationWarning: np.asscalar(a) is deprecated since NumPy v1.16, use a.item() instead\n",
      "  print (\"Next Day Value:\", np.asscalar(last_val*next_val))\n"
     ]
    }
   ],
   "source": [
    "last_val = testPredict[-1]\n",
    "last_val_scaled = last_val/last_val\n",
    "next_val = model.predict(np.reshape(last_val_scaled, (1,1,1)))\n",
    "print (\"Last Day Value:\", np.asscalar(last_val))\n",
    "print (\"Next Day Value:\", np.asscalar(last_val*next_val))"
   ]
  },
  {
   "cell_type": "code",
   "execution_count": null,
   "metadata": {},
   "outputs": [],
   "source": []
  }
 ],
 "metadata": {
  "colab": {
   "collapsed_sections": [],
   "name": "Share_Price_Predictio_Apple.ipynb",
   "provenance": []
  },
  "kernelspec": {
   "display_name": "Python 3",
   "language": "python",
   "name": "python3"
  },
  "language_info": {
   "codemirror_mode": {
    "name": "ipython",
    "version": 3
   },
   "file_extension": ".py",
   "mimetype": "text/x-python",
   "name": "python",
   "nbconvert_exporter": "python",
   "pygments_lexer": "ipython3",
   "version": "3.8.5"
  }
 },
 "nbformat": 4,
 "nbformat_minor": 1
}
